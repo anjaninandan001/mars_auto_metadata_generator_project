{
 "cells": [
  {
   "cell_type": "markdown",
   "id": "1cf2c4a0",
   "metadata": {},
   "source": [
    "# Automated Metadata Generation\n",
    "\n",
    "This notebook demonstrates the process of extracting text from various document types (PDF, DOCX, TXT, scanned images), and generating metadata using an LLM (Mistral-7B via OpenRouter)."
   ]
  },
  {
   "cell_type": "code",
   "execution_count": 21,
   "id": "4111ff78",
   "metadata": {},
   "outputs": [],
   "source": [
    "import os\n",
    "from pdfminer.high_level import extract_text as extract_pdf_text\n",
    "import docx\n",
    "import pytesseract\n",
    "from PIL import Image\n",
    "from openai import OpenAI\n",
    "import json\n",
    "import logging"
   ]
  },
  {
   "cell_type": "markdown",
   "id": "ab0f4b37-e0ba-43dc-bf50-2b83f2ed704f",
   "metadata": {},
   "source": [
    "#  Text Extraction Functions( ocr)"
   ]
  },
  {
   "cell_type": "code",
   "execution_count": 22,
   "id": "5c381fa2",
   "metadata": {},
   "outputs": [],
   "source": [
    "def extract_text_from_pdf(filepath):\n",
    "    return extract_pdf_text(filepath)\n",
    "\n",
    "def extract_text_from_docx(filepath):\n",
    "    doc = docx.Document(filepath)\n",
    "    return '\\n'.join(para.text for para in doc.paragraphs)\n",
    "\n",
    "def extract_text_from_txt(filepath):\n",
    "    with open(filepath, 'r', encoding='utf-8', errors='replace') as file:\n",
    "        return file.read()\n",
    "\n",
    "def extract_text_with_ocr(filepath):\n",
    "    return pytesseract.image_to_string(Image.open(filepath))\n",
    "\n",
    "def extract_text(filepath):\n",
    "    ext = os.path.splitext(filepath)[1].lower()\n",
    "    try:\n",
    "        if ext == '.pdf':\n",
    "            try:\n",
    "                return extract_text_from_pdf(filepath)\n",
    "            except Exception:\n",
    "                return extract_text_with_ocr(filepath)\n",
    "        elif ext == '.docx':\n",
    "            return extract_text_from_docx(filepath)\n",
    "        elif ext == '.txt':\n",
    "            return extract_text_from_txt(filepath)\n",
    "        else:\n",
    "            return extract_text_with_ocr(filepath)\n",
    "    except Exception as e:\n",
    "        return f\"Error extracting text: {str(e)}\""
   ]
  },
  {
   "cell_type": "markdown",
   "id": "17b93452-d91b-4525-b7c1-7d6ab1fb1eca",
   "metadata": {},
   "source": [
    "# Metadatageration using TF-IDF"
   ]
  },
  {
   "cell_type": "code",
   "execution_count": 32,
   "id": "b8dfa5ea-512e-4663-a5a1-ce4afc320107",
   "metadata": {},
   "outputs": [
    {
     "name": "stderr",
     "output_type": "stream",
     "text": [
      "[nltk_data] Downloading package stopwords to\n",
      "[nltk_data]     C:\\Users\\anjan\\AppData\\Roaming\\nltk_data...\n",
      "[nltk_data]   Package stopwords is already up-to-date!\n",
      "Device set to use cpu\n"
     ]
    }
   ],
   "source": [
    "import string\n",
    "import os\n",
    "\n",
    "from nltk.corpus import stopwords\n",
    "from transformers import pipeline\n",
    "from sklearn.feature_extraction.text import TfidfVectorizer\n",
    "\n",
    "# Download stopwords if not already available\n",
    "import nltk\n",
    "nltk.download('stopwords')\n",
    "\n",
    "def preprocess_text(text):\n",
    "    text = text.lower()\n",
    "    # Remove punctuation\n",
    "    text = text.translate(str.maketrans('', '', string.punctuation))\n",
    "    # Remove stopwords\n",
    "    stop_words = set(stopwords.words('english'))\n",
    "    return ' '.join(word for word in text.split() if word not in stop_words)\n",
    "\n",
    "# Initialize summarizer once\n",
    "summarizer = pipeline(\"summarization\", model=\"sshleifer/distilbart-cnn-12-6\")\n",
    "\n",
    "def generate_metadata(text, n_top_words=5):\n",
    "    processed_text = preprocess_text(text)\n",
    "    \n",
    "    # Use TF-IDF for keyword extraction (works for single documents)\n",
    "    vectorizer = TfidfVectorizer(stop_words='english')\n",
    "    try:\n",
    "        tfidf_matrix = vectorizer.fit_transform([processed_text])\n",
    "        feature_names = vectorizer.get_feature_names_out()\n",
    "        scores = tfidf_matrix.toarray()[0]\n",
    "        # Get top n_top_words with highest TF-IDF scores\n",
    "        top_indices = scores.argsort()[::-1][:n_top_words]\n",
    "        topics_str = ', '.join(feature_names[top_indices])\n",
    "    except ValueError:\n",
    "        topics_str = \"\"\n",
    "\n",
    "    # Generate summary\n",
    "    max_chunk_length = 1024\n",
    "    if len(text) > max_chunk_length:\n",
    "        text = text[:max_chunk_length]\n",
    "    summary = summarizer(text, max_length=60, min_length=20, do_sample=False)[0]['summary_text']\n",
    "\n",
    "    return {\n",
    "       \n",
    "        \"summary\": summary\n",
    "    }\n"
   ]
  },
  {
   "cell_type": "code",
   "execution_count": 33,
   "id": "140cefc3-7c11-4346-84a8-3fa7cce8ebea",
   "metadata": {},
   "outputs": [],
   "source": [
    "file_path = \"Dona Pattal.pdf\"  \n",
    "text = extract_text(file_path)"
   ]
  },
  {
   "cell_type": "code",
   "execution_count": 34,
   "id": "6e04d42a-458a-4979-b0e6-5d3588ccb503",
   "metadata": {},
   "outputs": [
    {
     "name": "stdout",
     "output_type": "stream",
     "text": [
      "introduction 1 dona pattal initiative ongoing project puranpur village focused creating ecofriendly disposable plates traditionally dona pattal plates coated plastic easily degradable contributes environmental pollution address issue propose using bioplastic laminating paper plates offering sustainable alternative environmentally friendly 2 literature review found method preparing bioplastic research paper outlines bioplastic made using cornstarch vinegar glycerin water combination ingredients allows creation sustainable material suitable disposable plates 3 methodology make bioplastic laminating paper plates start gathering necessary ingredients tools need 1 teaspoon cornstarch 1 teaspoon vinegar 1 teaspoon glycerin 4 teaspoons water begin combining ingredients pot stirring mixture becomes smooth milky white next place pot mediumlow heat continue stirring mixture heats course 1015 minutes mixture begin thicken turn translucent cautious avoid overheating may cause lumps form mixture reaches thick translucent consistency remove heat allow cool slightly spread mixture onto piece paper want mold specific shape it’s still warm finally leave bioplastic dry cool dry place least two days drying time depend thickness plastic thinner pieces drying faster fully hardened bioplastic ready use 4 results bioplastic successfully produced using outlined method final product translucent appearance although transparent expected could attributed insufficient heating preparation process may affected clarity additionally tensile strength bioplastic noticeably lower compared conventional plastics demonstrated effective waterproof properties water able pass material result suggests bioplastic functional lamination purposes may require optimization improve strength clarity bioplastic 5 discussion 51 challenges faced one main challenges encountered bioplastic began dissolve exposed water extended period exact cause issue unclear likely related insufficient heating preparation process proper heating essential ensuring starch fully gelatinizes effectively bonds ingredients enhances materials water resistance insufficient heating may resulted weaker structure contributing dissolving effect observed testing additionally assess thermal stability bioplastic leaves uncertainty performance varying temperature conditions 6 conclusion bioplastic successfully created using cornflour vinegar glycerin water yielding translucent waterproof material however tensile strength lower conventional plastics prolonged exposure water caused dissolve likely due insufficient heating additionally thermal stability tested raising questions performance varying temperatures despite challenges experiment highlights potential bioplastics sustainable alternative future work focus optimizing preparation method testing thermal stability improve durability overall suitability practical applications 7 references httpswwwbingcomckap0f721ae86116f37127b2e2eed2ee285b095f8edce37d890641277 e5c76995cadjmltdhm9mtcynjc5mdqwmczpbnnpzd01mjixptn3ver2hsh4fclid2dd304d1 5f576c7b1075 17355e516d2fpsqdiysciencee28093cornflourbioplasticua1ahr0chm6ly93d3cuc2 npzw5jzxdlzwsubmv0lmf1l3dwlwnvbnrlbnqvdxbsb2fkcy8ymdiylza3l0nvcm5frmxvdxjfqmlvc gxhc3rpyy5wzgyntb1\n"
     ]
    }
   ],
   "source": [
    "meta=preprocess_text(text)\n",
    "print(meta)"
   ]
  },
  {
   "cell_type": "code",
   "execution_count": 35,
   "id": "d4e415e6-bfd8-4f7b-bcc2-16f924487c0d",
   "metadata": {},
   "outputs": [
    {
     "name": "stdout",
     "output_type": "stream",
     "text": [
      "{'summary': ' Puranpur village focused creating ecofriendly disposable plates . traditional dona pattal plates coated plastic easily degradable contributes environmental pollution . Bioplastic laminating paper plates offer sustainable alternative environmentally friendly .'}\n"
     ]
    }
   ],
   "source": [
    "metadata=generate_metadata(meta, n_top_words=5)\n",
    "print(metadata)"
   ]
  },
  {
   "cell_type": "markdown",
   "id": "576ea826-c46b-41d3-beb2-056bd97e4554",
   "metadata": {},
   "source": [
    "# Metadata Generation using LLM via OpenRouter"
   ]
  },
  {
   "cell_type": "code",
   "execution_count": 29,
   "id": "6979e00d",
   "metadata": {},
   "outputs": [],
   "source": [
    "\n",
    "logging.basicConfig(level=logging.INFO)\n",
    "logger = logging.getLogger(__name__)\n",
    "api_key = \"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\"\n",
    "\n",
    "def generate_metadata_via_api(text, api_key, model=\"mistralai/mistral-7b-instruct:free\"):\n",
    "    if not text.strip():\n",
    "        return {\"error\": \"No text extracted from document\"}\n",
    "\n",
    "    truncated_text = text[:5000] + \"...\" if len(text) > 5000 else text\n",
    "\n",
    "    prompt = f\"\"\"\n",
    "    You are a metadata generator. Given the following document content, generate:\n",
    "    - Title\n",
    "    - 3-sentence summary\n",
    "    - 5 keywords\n",
    "    - Topic category\n",
    "    \n",
    "    Return JSON format with these keys:\n",
    "    {{\n",
    "        \\\"title\\\": \\\"...\\\",\n",
    "        \\\"summary\\\": \\\"...\\\",\n",
    "        \\\"keywords\\\": [\\\"...\\\", \\\"...\\\", \\\"...\\\"],\n",
    "        \\\"topics\\\": \\\"...\\\",\n",
    "        \\\"category\\\": \\\"...\\\",\n",
    "        \\\"document_type\\\": \\\"report\\\"  \n",
    "    }}\n",
    "    \n",
    "    Document Content:\n",
    "    {truncated_text}\n",
    "    \"\"\"\n",
    "\n",
    "    try:\n",
    "        client = OpenAI(\n",
    "            base_url=\"https://openrouter.ai/api/v1\",\n",
    "            api_key=api_key,\n",
    "            timeout=30,\n",
    "            default_headers={\n",
    "                \"HTTP-Referer\": \"https://metadata-generator-app.com\",\n",
    "                \"X-Title\": \"Automated Metadata Generator\"\n",
    "            }\n",
    "        )\n",
    "        \n",
    "        response = client.chat.completions.create(\n",
    "            model=model,\n",
    "            messages=[{\"role\": \"user\", \"content\": prompt}],\n",
    "            temperature=0.2,\n",
    "            max_tokens=500\n",
    "        )\n",
    "        \n",
    "        content = response.choices[0].message.content\n",
    "        metadata = json.loads(content)\n",
    "        \n",
    "        required_keys = [\"title\", \"summary\", \"keywords\", \"topics\", \"category\"]\n",
    "        if not all(key in metadata for key in required_keys):\n",
    "            missing = [k for k in required_keys if k not in metadata]\n",
    "            return {\"error\": f\"Missing keys: {', '.join(missing)}\"}\n",
    "\n",
    "        return metadata\n",
    "    \n",
    "    except json.JSONDecodeError as e:\n",
    "        logger.error(f\"JSON error: {e} | Response: {content}\")\n",
    "        return {\"error\": \"Invalid JSON response from API\"}\n",
    "    except Exception as e:\n",
    "        logger.exception(\"API request failed\")\n",
    "        return {\"error\": f\"API request failed: {str(e)}\"}"
   ]
  },
  {
   "cell_type": "markdown",
   "id": "10ed88af-6535-491e-8594-039db6addead",
   "metadata": {},
   "source": [
    "#  Test with a local file"
   ]
  },
  {
   "cell_type": "code",
   "execution_count": 31,
   "id": "f9cb4121",
   "metadata": {},
   "outputs": [
    {
     "name": "stderr",
     "output_type": "stream",
     "text": [
      "INFO:httpx:HTTP Request: POST https://openrouter.ai/api/v1/chat/completions \"HTTP/1.1 200 OK\"\n"
     ]
    },
    {
     "data": {
      "text/plain": [
       "{'title': 'Creating Bioplastic for Eco-Friendly Disposable Plates: A Sustainable Alternative',\n",
       " 'summary': 'This report presents a method for creating bioplastic using cornstarch, vinegar, glycerin, and water as ingredients. The bioplastic was successfully produced, demonstrating waterproof properties, but its tensile strength was lower than conventional plastics. The bioplastic began to dissolve when exposed to water for an extended period, likely due to insufficient heating during the preparation process. Future work should focus on optimizing the preparation method and testing thermal stability to improve durability and overall suitability for practical applications.',\n",
       " 'keywords': ['bioplastic',\n",
       "  'sustainable',\n",
       "  'disposable plates',\n",
       "  'cornstarch',\n",
       "  'vinegar',\n",
       "  'glycerin'],\n",
       " 'topics': 'Environmental Science, Sustainability, Material Science',\n",
       " 'category': 'Research',\n",
       " 'document_type': 'report'}"
      ]
     },
     "execution_count": 31,
     "metadata": {},
     "output_type": "execute_result"
    }
   ],
   "source": [
    "\n",
    "file_path = \"Dona Pattal.pdf\"  \n",
    "text = extract_text(file_path)\n",
    "metadata = generate_metadata_via_api(text, api_key)\n",
    "metadata"
   ]
  },
  {
   "cell_type": "markdown",
   "id": "696e784d-1a58-491d-9b40-b72eca978214",
   "metadata": {},
   "source": [
    "## ✅ Conclusion\n",
    "\n",
    "This notebook demonstrates a complete pipeline for **automated metadata generation** from unstructured documents. Through content extraction, semantic analysis, and structured metadata creation, we improve document discoverability and classification. The solution supports various file formats such as **PDF, DOCX, and TXT**, and uses **OCR** where necessary.\n",
    "\n",
    "➡️ This functionality has been integrated into a simple and intuitive web application using **Flask**, allowing users to upload documents and instantly view their metadata.\n",
    "\n",
    "---\n",
    "\n",
    "### 🔗 Project Links\n",
    "\n",
    "- 💻 **GitHub Repository:** [View Code](https://github.com/anjaninandan001/mars_auto_metadata_generator_project/tree/main)  \n",
    "- 🌐 **Live Deployed Web App:** [Try it here](https://metagenerator-4.onrender.com/)  \n",
    "- 🎥 **Demo Video (2 min):** [Watch on YouTube](https://youtube.com/your-demo-video)\n",
    "\n",
    "---\n",
    "\n",
    "Feel free to explore the live app, test different document formats, and review the extracted metadata in real time!\n"
   ]
  },
  {
   "cell_type": "code",
   "execution_count": null,
   "id": "458ddd4b-249f-4f8f-8d16-d4803670dac8",
   "metadata": {},
   "outputs": [],
   "source": []
  }
 ],
 "metadata": {
  "kernelspec": {
   "display_name": "Python 3 (ipykernel)",
   "language": "python",
   "name": "python3"
  },
  "language_info": {
   "codemirror_mode": {
    "name": "ipython",
    "version": 3
   },
   "file_extension": ".py",
   "mimetype": "text/x-python",
   "name": "python",
   "nbconvert_exporter": "python",
   "pygments_lexer": "ipython3",
   "version": "3.12.7"
  }
 },
 "nbformat": 4,
 "nbformat_minor": 5
}
